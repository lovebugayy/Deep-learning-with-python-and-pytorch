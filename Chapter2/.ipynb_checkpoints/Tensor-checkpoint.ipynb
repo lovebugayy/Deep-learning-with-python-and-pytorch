{
 "cells": [
  {
   "cell_type": "markdown",
   "id": "3b784941",
   "metadata": {},
   "source": [
    "## Tensor概述"
   ]
  },
  {
   "cell_type": "code",
   "execution_count": 1,
   "id": "c7905c2b",
   "metadata": {},
   "outputs": [],
   "source": [
    "import torch"
   ]
  },
  {
   "cell_type": "code",
   "execution_count": null,
   "id": "1a3a9418",
   "metadata": {},
   "outputs": [],
   "source": [
    "# 对tensor的操作分为torch.function 和 tensor.function\n",
    "x=torch.tensor([1,2])\n",
    "y=torch.tensor([3,4])\n",
    "z=x.add(y)\n",
    "print(z,\"\\n\")\n",
    "print(x,\"\\n\")\n",
    "x.add_(y)\n",
    "print(x,\"\\n\")"
   ]
  },
  {
   "cell_type": "code",
   "execution_count": null,
   "id": "a914780b",
   "metadata": {},
   "outputs": [],
   "source": [
    "#创建tensor的方法有很多,可以从列表或者ndarray等类型进行构建,也可以根据指定的类型进行创建.\n",
    "\n",
    "#根据list\n",
    "x=torch.Tensor([1,2,3,4])\n",
    "print(x,\"\\n\")\n",
    "\n",
    "#根据指定形状\n",
    "y=torch.Tensor(2,3)\n",
    "print(y,\"\\n\")\n",
    "\n",
    "z=torch.Tensor([[1,2,3],[4,5,6]])\n",
    "print(z,\"\\n\")\n",
    "\n",
    "#查看形状\n",
    "print(z.size())\n",
    "\n",
    "print(y.shape)\n",
    "\n",
    "z1=torch.Tensor(z.size())\n",
    "print(z1)"
   ]
  },
  {
   "cell_type": "code",
   "execution_count": null,
   "id": "565f5a22",
   "metadata": {},
   "outputs": [],
   "source": [
    "## 注意区分torch.tensor和torch.Tensor.torch.Tensor是介于torch.empty和torch.tensor之间的一种混合,当数据传入时,会默认为float\n",
    "## torch.tensor是从数据中推断出数据类型\n",
    "## torch.tensor(1) 返回固定值1\n",
    "## torch.Tensor(1)返回大小为1的张量,张量值的大小不一定为1\n",
    "\n",
    "t1=torch.Tensor(1)\n",
    "t2=torch.tensor(1)\n",
    "print(\"t1的值为{},t1的数据类型为{}\\n\".format(t1,t1.type()))\n",
    "print(\"t2的值为{},t2的数据类型为{}\\n\".format(t2,t2.type()))\n"
   ]
  },
  {
   "cell_type": "code",
   "execution_count": null,
   "id": "4ef61ec2",
   "metadata": {},
   "outputs": [],
   "source": [
    "#生成一个单位矩阵\n",
    "print(torch.eye(2,2))\n",
    "\n",
    "#全0\n",
    "print(torch.zeros(2,3))\n",
    "\n",
    "#根据规则生成数据\n",
    "print(torch.linspace(1,10,4))\n",
    "\n",
    "#满足随机分布的数据\n",
    "print(torch.rand(2,3))\n",
    "\n",
    "#满足标准分布的随机数\n",
    "print(torch.randn(2,3))\n",
    "\n",
    "#返回所给数据形状相同的全0\n",
    "print(torch.zeros_like(torch.rand(2,3)))"
   ]
  },
  {
   "cell_type": "code",
   "execution_count": null,
   "id": "1b0a56ba",
   "metadata": {},
   "outputs": [],
   "source": [
    "## 形状操作\n",
    "\n",
    "x=torch.randn(2,3)\n",
    "print(x,\"\\n\")\n",
    "print(x.size(),\"\\n\")\n",
    "#查看x维度\n",
    "print(x.dim(),\"\\n\")\n",
    "\n",
    "#将x变为3x2的矩阵\n",
    "print(x.view(3,2),\"\\n\")\n",
    "\n",
    "#吧x展平为1维向量\n",
    "y=x.view(-1)\n",
    "print(y,\"\\n\")\n",
    "print(y.shape,\"\\n\")\n",
    "\n",
    "#添加一个维度\n",
    "z=torch.unsqueeze(y,0)\n",
    "print(z,\"\\n\")\n",
    "#查看z的形状\n",
    "print(z.size(),\"\\n\")\n",
    "\n",
    "#计算z的元素个数\n",
    "print(z.numel(),\"\\n\")"
   ]
  },
  {
   "cell_type": "code",
   "execution_count": null,
   "id": "06e101d3",
   "metadata": {},
   "outputs": [],
   "source": [
    "## 索引操作\n",
    "\n",
    "#设置一个随机种子\n",
    "torch.manual_seed(100)\n",
    "x=torch.randn(2,3)\n",
    "print(\"第一行的数据:\",x[0,:],\"\\n\")\n",
    "print(\"最后一列的数据:\",x[:,-1],\"\\n\")\n",
    "\n",
    "print(x,\"\\n\")\n",
    "#获取大于0的值\n",
    "mask=x>0\n",
    "print(torch.masked_select(x,mask),\"\\n\")\n",
    "\n",
    "#获取非0下标,即行列索引\n",
    "print(torch.nonzero(mask),\"\\n\")\n",
    "\n",
    "index=torch.LongTensor([[0,1,1]])\n",
    "print(torch.gather(x,0,index),\"\\n\")\n",
    "\n",
    "index=torch.LongTensor([[0,1,1],[1,1,1]])\n",
    "a=torch.gather(x,1,index)\n",
    "print(a,\"\\n\")\n",
    "\n",
    "z=torch.zeros(2,3)\n",
    "z.scatter_(1,index,a)\n"
   ]
  },
  {
   "cell_type": "code",
   "execution_count": null,
   "id": "e77fb242",
   "metadata": {},
   "outputs": [],
   "source": [
    "# 广播机制\n",
    "import numpy as np\n",
    "\n",
    "A=np.arange(0,40,10).reshape(4,1)\n",
    "B=np.arange(0,3)\n",
    "print(A,\"\\n\")\n",
    "print(B,\"\\n\")\n",
    "\n",
    "#将ndarray转换为Tensor\n",
    "A1=torch.from_numpy(A)\n",
    "B1=torch.from_numpy(B)\n",
    "print(A1,\"\\n\")\n",
    "print(B1,\"\\n\")\n",
    "\n",
    "#Tensor自动广播\n",
    "C=A1+B1\n",
    "print(C,\"\\n\")\n",
    "\n",
    "B2=B1.unsqueeze(0)\n",
    "#使用expand函数重复数组,\n",
    "print(B2,\"\\n\")\n",
    "\n",
    "A2=A1.expand(4,3)\n",
    "B3=B2.expand(4,3)\n",
    "print(A2,\"\\n\")\n",
    "print(B3,\"\\n\")\n",
    "\n",
    "C1=A2+B3\n",
    "print(C1,\"\\n\")"
   ]
  },
  {
   "cell_type": "code",
   "execution_count": null,
   "id": "685380a4",
   "metadata": {},
   "outputs": [],
   "source": [
    "#逐元素操作\n",
    "t=torch.randn(1,3)\n",
    "print(\"t为{}\\n\".format(t))\n",
    "t1=torch.randn(3,1)\n",
    "print(\"t1为{}\\n\".format(t1))\n",
    "t2=torch.randn(1,3)\n",
    "print(\"t2为{}\\n\".format(t2))\n",
    "\n",
    "tcdiv=torch.addcdiv(t,0.1,t1,t2)\n",
    "print(\"tcdiv为{}\\n\".format(tcdiv))\n",
    "\n",
    "print(\"新变化为{}\\n\".format(torch.sigmoid(t)))\n",
    "\n",
    "print(\"限制在[0,1]之间{}\\n\".format(torch.clamp(t,0,1)))\n",
    "\n",
    "print(\"t+2就地运算{}\\n\".format(t.add_(2)))"
   ]
  },
  {
   "cell_type": "code",
   "execution_count": null,
   "id": "d9c7ba41",
   "metadata": {},
   "outputs": [],
   "source": [
    "#归并操作\n",
    "#生成一个6个数的向量\n",
    "a=torch.linspace(0,10,6)\n",
    "print(a,'\\n')\n",
    "\n",
    "a=a.view(2,3)\n",
    "print(a,'\\n')\n",
    "\n",
    "#沿着y轴进行叠加\n",
    "b=a.sum(dim=0)\n",
    "print(b,'\\n')\n",
    "\n",
    "#沿着y轴进行叠加,并保留含1的维度\n",
    "b=a.sum(dim=0,keepdim=True)\n",
    "print(b,'\\n')"
   ]
  },
  {
   "cell_type": "code",
   "execution_count": null,
   "id": "f0eb953d",
   "metadata": {},
   "outputs": [],
   "source": [
    "#比较操作\n",
    "x=torch.linspace(0,10,6).view(2,3)\n",
    "print(x)\n",
    "print(torch.max(x),'\\n')\n",
    "print(torch.max(x,dim=0),'\\n')\n",
    "\n",
    "#最大的两个元素\n",
    "print(torch.topk(x,1,dim=0))"
   ]
  },
  {
   "cell_type": "code",
   "execution_count": null,
   "id": "d26cd15e",
   "metadata": {},
   "outputs": [],
   "source": [
    "#矩阵操作\n",
    "a=torch.tensor([2,3])\n",
    "b=torch.tensor([3,4])\n",
    "print(torch.dot(a,b))\n",
    "\n",
    "x=torch.randint(10,(2,3))\n",
    "y=torch.randint(6,(3,4))\n",
    "print(\"x:\",x)\n",
    "print(torch.mm(x,y))\n",
    "\n",
    "x=torch.randint(10,(2,2,3))\n",
    "y=torch.randint(6,(2,3,4))\n",
    "print(\"x:\",x)\n",
    "print(torch.bmm(x,y))"
   ]
  },
  {
   "cell_type": "markdown",
   "id": "1fff6b5c",
   "metadata": {},
   "source": [
    "## 反向传播算法"
   ]
  },
  {
   "cell_type": "code",
   "execution_count": null,
   "id": "8ba9a4d3",
   "metadata": {},
   "outputs": [],
   "source": [
    "#标量反向传播\n",
    "\n",
    "#1,\n",
    "\n",
    "#定义输入张量x\n",
    "x=torch.Tensor([1])\n",
    "#初始化权重参数w,偏移量b,并设置require_grad属性为True,为自动求导\n",
    "w=torch.randn(1,requires_grad=True)\n",
    "b=torch.randn(1,requires_grad=True)\n",
    "\n",
    "#实现前向传播\n",
    "y=torch.mul(w,x)\n",
    "z=torch.add(y,b)\n",
    "\n",
    "#查看w,b,x叶子节点的属性\n",
    "print(\"x,w,b的rquires_grad属性分别为: {},{},{}\".format(x.requires_grad,w.requires_grad,b.requires_grad))"
   ]
  },
  {
   "cell_type": "code",
   "execution_count": null,
   "id": "66ae2423",
   "metadata": {},
   "outputs": [],
   "source": [
    "#2, 查看叶子节点和非叶子节点的其他属性\n",
    "\n",
    "#查看非叶子节点的requires_grad属性\n",
    "print(\"y,z的rquires_grad属性分别为: {},{}\".format(y.requires_grad,z.requires_grad))\\\n",
    "\n",
    "#查看各个节点是否为叶子节点\n",
    "print(\"x,w,b,y,z为: {},{},{},{},{}\".format(x.is_leaf,w.is_leaf,b.is_leaf,y.is_leaf,z.is_leaf))\n",
    "\n",
    "#查看叶子节点的grad_fn属性\n",
    "print(\"x,w,b的grad_fn属性为: {},{},{}\".format(x.grad_fn,w.grad_fn,b.grad_fn))\n",
    "\n",
    "#查看你非叶子节点的grad_fn属性\n",
    "print(\"y,z的grad_fn属性为: {},{}\".format(y.grad_fn,z.grad_fn))"
   ]
  },
  {
   "cell_type": "code",
   "execution_count": null,
   "id": "24404cda",
   "metadata": {},
   "outputs": [],
   "source": [
    "#3, 基于z张量进行梯度反向传播\n",
    "\n",
    "#基于张量z进行梯度反向传播,执行backward之后,计算图会自动清空\n",
    "z.backward()\n",
    "\n",
    "#如果需要多次backward,需要修改retain_graph为True,此时梯度是累加的\n",
    "#z.backward(retain_graph=True)\n",
    "\n",
    "#查看叶子节点的梯度,x是叶子节点无须球到,梯度为None\n",
    "print(\"参数w,b,x的梯度分别为:{},{},{}\".format(w.grad,b.grad,x.grad))\n",
    "\n",
    "#查看非叶子节点的梯度,backward之后,计算图自动清空\n",
    "print(\"非叶子节点的梯度分别为:{},{}\".format(y.retain_grad(),z.retain_grad()))"
   ]
  },
  {
   "cell_type": "code",
   "execution_count": null,
   "id": "669fd2c8",
   "metadata": {},
   "outputs": [],
   "source": [
    "## 非标量反向传播\n",
    "\n",
    "#定义叶子节点张量x,形状为1x2\n",
    "x=torch.tensor([[2,3]],dtype=torch.float,requires_grad=True)\n",
    "\n",
    "#初始化Jacobian矩阵\n",
    "J=torch.zeros(2,2)\n",
    "\n",
    "#初始化目标张量\n",
    "y=torch.zeros(1,2)\n",
    "\n",
    "#定义y和x的映射关系\n",
    "y[0,0]=x[0,0]**2+3*x[0,1]\n",
    "y[0,1]=x[0,1]**2+2*x[0,0]\n",
    "\n",
    "#调用backward来获取y对x的梯度\n",
    "# y.backward(torch.Tensor([[1,1]]))\n",
    "# print(x.grad)\n",
    "#这个计算结果显然不对,是v=[1,1]选取的原因.\n",
    "\n",
    "#可以分别在每一维选取单位向量[1,0]和[0,1]来求出y对x1和x2的梯度\n",
    "\n",
    "#生成y1对x的梯度\n",
    "y.backward(torch.Tensor([[1,0]]),retain_graph=True)\n",
    "J[0]=x.grad\n",
    "\n",
    "#梯度是累加的,所以需要对x.grad进行清零,然后再backward\n",
    "x.grad=torch.zeros_like(x.grad)\n",
    "y.backward(torch.Tensor([[0,1]]))\n",
    "J[1]=x.grad\n",
    "\n",
    "#显示jacobian矩阵的值\n",
    "print(J)"
   ]
  },
  {
   "cell_type": "markdown",
   "id": "2d4e11e8",
   "metadata": {},
   "source": [
    "## 使用numpy实现深度学习"
   ]
  },
  {
   "cell_type": "code",
   "execution_count": 2,
   "id": "91b480fd",
   "metadata": {},
   "outputs": [],
   "source": [
    "import numpy as np\n",
    "import matplotlib.pyplot as plt\n",
    "\n",
    "#生成x,y数据\n",
    "np.random.seed(100)\n",
    "x=np.linspace(-1,1,100).reshape(100,1)\n",
    "y=3*np.power(x,2)+2+0.2*np.random.rand(x.size).reshape(100,1)"
   ]
  },
  {
   "cell_type": "code",
   "execution_count": 3,
   "id": "0303470c",
   "metadata": {},
   "outputs": [
    {
     "data": {
      "image/png": "[encoded data removed]",
      "text/plain": [
       "<Figure size 432x288 with 1 Axes>"
      ]
     },
     "metadata": {
      "needs_background": "light"
     },
     "output_type": "display_data"
    }
   ],
   "source": [
    "#查看x,y数据分布情况\n",
    "plt.scatter(x,y)\n",
    "plt.show()"
   ]
  },
  {
   "cell_type": "code",
   "execution_count": 4,
   "id": "992b3e15",
   "metadata": {},
   "outputs": [],
   "source": [
    "#初始化随机参数\n",
    "w1=np.random.rand(1,1)\n",
    "b1=np.random.rand(1,1)"
   ]
  },
  {
   "cell_type": "code",
   "execution_count": 5,
   "id": "018e98a1",
   "metadata": {},
   "outputs": [],
   "source": [
    "#训练模型\n",
    "lr=0.001\n",
    "for i in range(800):\n",
    "    #前向传播\n",
    "    y_pred=np.power(x,2)*w1+b1\n",
    "    #定义损失函数\n",
    "    loss=0.5*(y_pred-y)**2\n",
    "    loss=loss.sum()\n",
    "    \n",
    "    #计算梯度\n",
    "    grad_w=np.sum(y_pred-y)*np.power(x,2)\n",
    "    grad_b=np.sum(y_pred-y)\n",
    "    \n",
    "    #梯度下降法\n",
    "    w1=w1-lr*grad_w\n",
    "    b1=b1-lr*grad_b"
   ]
  },
  {
   "cell_type": "code",
   "execution_count": 6,
   "id": "6c9f5249",
   "metadata": {},
   "outputs": [
    {
     "data": {
      "image/png": "[encoded data removed]",
      "text/plain": [
       "<Figure size 432x288 with 1 Axes>"
      ]
     },
     "metadata": {
      "needs_background": "light"
     },
     "output_type": "display_data"
    },
    {
     "name": "stdout",
     "output_type": "stream",
     "text": [
      "[[2.49201061]\n",
      " [2.42346875]\n",
      " [2.3563257 ]\n",
      " [2.29058146]\n",
      " [2.22623604]\n",
      " [2.16328943]\n",
      " [2.10174164]\n",
      " [2.04159266]\n",
      " [1.98284249]\n",
      " [1.92549114]\n",
      " [1.8695386 ]\n",
      " [1.81498487]\n",
      " [1.76182996]\n",
      " [1.71007386]\n",
      " [1.65971657]\n",
      " [1.6107581 ]\n",
      " [1.56319844]\n",
      " [1.5170376 ]\n",
      " [1.47227556]\n",
      " [1.42891235]\n",
      " [1.38694794]\n",
      " [1.34638235]\n",
      " [1.30721557]\n",
      " [1.26944761]\n",
      " [1.23307846]\n",
      " [1.19810812]\n",
      " [1.16453659]\n",
      " [1.13236388]\n",
      " [1.10158999]\n",
      " [1.0722149 ]\n",
      " [1.04423863]\n",
      " [1.01766118]\n",
      " [0.99248253]\n",
      " [0.9687027 ]\n",
      " [0.94632169]\n",
      " [0.92533948]\n",
      " [0.9057561 ]\n",
      " [0.88757152]\n",
      " [0.87078576]\n",
      " [0.85539881]\n",
      " [0.84141067]\n",
      " [0.82882135]\n",
      " [0.81763085]\n",
      " [0.80783915]\n",
      " [0.79944627]\n",
      " [0.7924522 ]\n",
      " [0.78685695]\n",
      " [0.78266051]\n",
      " [0.77986288]\n",
      " [0.77846407]\n",
      " [0.77846407]\n",
      " [0.77986288]\n",
      " [0.78266051]\n",
      " [0.78685695]\n",
      " [0.7924522 ]\n",
      " [0.79944627]\n",
      " [0.80783915]\n",
      " [0.81763085]\n",
      " [0.82882135]\n",
      " [0.84141067]\n",
      " [0.85539881]\n",
      " [0.87078576]\n",
      " [0.88757152]\n",
      " [0.9057561 ]\n",
      " [0.92533948]\n",
      " [0.94632169]\n",
      " [0.9687027 ]\n",
      " [0.99248253]\n",
      " [1.01766118]\n",
      " [1.04423863]\n",
      " [1.0722149 ]\n",
      " [1.10158999]\n",
      " [1.13236388]\n",
      " [1.16453659]\n",
      " [1.19810812]\n",
      " [1.23307846]\n",
      " [1.26944761]\n",
      " [1.30721557]\n",
      " [1.34638235]\n",
      " [1.38694794]\n",
      " [1.42891235]\n",
      " [1.47227556]\n",
      " [1.5170376 ]\n",
      " [1.56319844]\n",
      " [1.6107581 ]\n",
      " [1.65971657]\n",
      " [1.71007386]\n",
      " [1.76182996]\n",
      " [1.81498487]\n",
      " [1.8695386 ]\n",
      " [1.92549114]\n",
      " [1.98284249]\n",
      " [2.04159266]\n",
      " [2.10174164]\n",
      " [2.16328943]\n",
      " [2.22623604]\n",
      " [2.29058146]\n",
      " [2.3563257 ]\n",
      " [2.42346875]\n",
      " [2.49201061]] [[2.49331979]]\n"
     ]
    }
   ],
   "source": [
    "#可视化结果\n",
    "plt.plot(x,y_pred,'r-',label='predict')\n",
    "plt.scatter(x,y,color='blue',marker='o',label='true')\n",
    "plt.xlim(-1,1)\n",
    "plt.ylim(-2,6)\n",
    "plt.legend()\n",
    "plt.show()\n",
    "print(w1,b1)"
   ]
  },
  {
   "cell_type": "code",
   "execution_count": 15,
   "id": "9094f2b6",
   "metadata": {},
   "outputs": [
    {
     "data": {
      "image/png": "[encoded data removed]",
      "text/plain": [
       "<Figure size 432x288 with 1 Axes>"
      ]
     },
     "metadata": {
      "needs_background": "light"
     },
     "output_type": "display_data"
    }
   ],
   "source": [
    "#使用Tensor以及autograd实现机器学习\n",
    "import torch as t\n",
    "\n",
    "#生成训练数据\n",
    "t.manual_seed(100)\n",
    "dtype=t.float\n",
    "#生产x\n",
    "x=t.unsqueeze(torch.linspace(-1,1,100),dim=1)\n",
    "#生成y\n",
    "y=3*x.pow(2)+2+0.2*torch.rand(x.size())\n",
    "\n",
    "#画图,将tensor转换为numpy\n",
    "plt.scatter(x.numpy(),y.numpy())\n",
    "plt.show()"
   ]
  },
  {
   "cell_type": "code",
   "execution_count": 16,
   "id": "90851a32",
   "metadata": {},
   "outputs": [],
   "source": [
    "#初始化权重参数\n",
    "w=t.randn(1,1,dtype=dtype,requires_grad=True)\n",
    "b=t.randn(1,1,dtype=dtype,requires_grad=True)"
   ]
  },
  {
   "cell_type": "code",
   "execution_count": 17,
   "id": "6a5c9bc0",
   "metadata": {},
   "outputs": [],
   "source": [
    "#模型训练\n",
    "lr=0.001\n",
    "for i in range(800):\n",
    "    #前向传播\n",
    "    y_pred=w*x**2+b\n",
    "    #定义损失函数\n",
    "    loss=0.5*(y_pred-y)**2\n",
    "    loss=loss.sum()\n",
    "    \n",
    "    #自动计算梯度\n",
    "    loss.backward()\n",
    "    \n",
    "    #手动更新参数,需要torch.no_grad()\n",
    "    with t.no_grad():\n",
    "        w-=lr*w.grad\n",
    "        b-=lr*b.grad\n",
    "    \n",
    "    #梯度清零\n",
    "        w.grad.zero_()\n",
    "        b.grad.zero_()"
   ]
  },
  {
   "cell_type": "code",
   "execution_count": 19,
   "id": "c9fb758b",
   "metadata": {},
   "outputs": [
    {
     "data": {
      "image/png": "[encoded data removed]",
      "text/plain": [
       "<Figure size 432x288 with 1 Axes>"
      ]
     },
     "metadata": {
      "needs_background": "light"
     },
     "output_type": "display_data"
    },
    {
     "name": "stdout",
     "output_type": "stream",
     "text": [
      "tensor([[2.9648]], requires_grad=True) tensor([[2.1145]], requires_grad=True)\n"
     ]
    }
   ],
   "source": [
    "plt.plot(x.numpy(),y_pred.detach().numpy(),'r-',label='predict')\n",
    "plt.scatter(x.numpy(),y.numpy(),color='blue',marker='o',label='false')\n",
    "# plt.xlim(-1,1)\n",
    "# plt.ylim(2,6)\n",
    "plt.legend()\n",
    "plt.show()\n",
    "\n",
    "print(w,b)"
   ]
  },
  {
   "cell_type": "code",
   "execution_count": null,
   "id": "83f2d112",
   "metadata": {},
   "outputs": [],
   "source": []
  }
 ],
 "metadata": {
  "kernelspec": {
   "display_name": "Python 3",
   "language": "python",
   "name": "python3"
  },
  "language_info": {
   "codemirror_mode": {
    "name": "ipython",
    "version": 3
   },
   "file_extension": ".py",
   "mimetype": "text/x-python",
   "name": "python",
   "nbconvert_exporter": "python",
   "pygments_lexer": "ipython3",
   "version": "3.8.8"
  }
 },
 "nbformat": 4,
 "nbformat_minor": 5
}
