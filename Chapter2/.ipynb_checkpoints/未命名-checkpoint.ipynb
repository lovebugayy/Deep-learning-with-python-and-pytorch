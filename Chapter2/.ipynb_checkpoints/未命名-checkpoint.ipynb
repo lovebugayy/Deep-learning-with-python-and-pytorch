{
 "cells": [
  {
   "cell_type": "markdown",
   "id": "3b784941",
   "metadata": {},
   "source": [
    "## Tensor概述"
   ]
  },
  {
   "cell_type": "code",
   "execution_count": 1,
   "id": "c7905c2b",
   "metadata": {},
   "outputs": [],
   "source": [
    "import torch"
   ]
  },
  {
   "cell_type": "code",
   "execution_count": 2,
   "id": "1a3a9418",
   "metadata": {},
   "outputs": [
    {
     "name": "stdout",
     "output_type": "stream",
     "text": [
      "tensor([4, 6]) \n",
      "\n",
      "tensor([1, 2]) \n",
      "\n",
      "tensor([4, 6]) \n",
      "\n"
     ]
    }
   ],
   "source": [
    "# 对tensor的操作分为torch.function 和 tensor.function\n",
    "x=torch.tensor([1,2])\n",
    "y=torch.tensor([3,4])\n",
    "z=x.add(y)\n",
    "print(z,\"\\n\")\n",
    "print(x,\"\\n\")\n",
    "x.add_(y)\n",
    "print(x,\"\\n\")"
   ]
  },
  {
   "cell_type": "code",
   "execution_count": 3,
   "id": "a914780b",
   "metadata": {},
   "outputs": [
    {
     "name": "stdout",
     "output_type": "stream",
     "text": [
      "tensor([1., 2., 3., 4.]) \n",
      "\n",
      "tensor([[-5.4893e+32,  3.0917e-41,  4.4774e-17],\n",
      "        [ 4.5850e-41,  8.9683e-44,  0.0000e+00]]) \n",
      "\n",
      "tensor([[1., 2., 3.],\n",
      "        [4., 5., 6.]]) \n",
      "\n",
      "torch.Size([2, 3])\n",
      "torch.Size([2, 3])\n",
      "tensor([[0., 0., 0.],\n",
      "        [0., 0., 0.]])\n"
     ]
    }
   ],
   "source": [
    "#创建tensor的方法有很多,可以从列表或者ndarray等类型进行构建,也可以根据指定的类型进行创建.\n",
    "\n",
    "#根据list\n",
    "x=torch.Tensor([1,2,3,4])\n",
    "print(x,\"\\n\")\n",
    "\n",
    "#根据指定形状\n",
    "y=torch.Tensor(2,3)\n",
    "print(y,\"\\n\")\n",
    "\n",
    "z=torch.Tensor([[1,2,3],[4,5,6]])\n",
    "print(z,\"\\n\")\n",
    "\n",
    "#查看形状\n",
    "print(z.size())\n",
    "\n",
    "print(y.shape)\n",
    "\n",
    "z1=torch.Tensor(z.size())\n",
    "print(z1)"
   ]
  },
  {
   "cell_type": "code",
   "execution_count": 5,
   "id": "565f5a22",
   "metadata": {},
   "outputs": [
    {
     "name": "stdout",
     "output_type": "stream",
     "text": [
      "t1的值为tensor([4.4774e-17]),t1的数据类型为torch.FloatTensor\n",
      "\n",
      "t2的值为1,t2的数据类型为torch.LongTensor\n",
      "\n"
     ]
    }
   ],
   "source": [
    "## 注意区分torch.tensor和torch.Tensor.torch.Tensor是介于torch.empty和torch.tensor之间的一种混合,当数据传入时,会默认为float\n",
    "## torch.tensor是从数据中推断出数据类型\n",
    "## torch.tensor(1) 返回固定值1\n",
    "## torch.Tensor(1)返回大小为1的张量,张量值的大小不一定为1\n",
    "\n",
    "t1=torch.Tensor(1)\n",
    "t2=torch.tensor(1)\n",
    "print(\"t1的值为{},t1的数据类型为{}\\n\".format(t1,t1.type()))\n",
    "print(\"t2的值为{},t2的数据类型为{}\\n\".format(t2,t2.type()))\n"
   ]
  },
  {
   "cell_type": "code",
   "execution_count": 8,
   "id": "4ef61ec2",
   "metadata": {},
   "outputs": [
    {
     "name": "stdout",
     "output_type": "stream",
     "text": [
      "tensor([[1., 0.],\n",
      "        [0., 1.]])\n",
      "tensor([[0., 0., 0.],\n",
      "        [0., 0., 0.]])\n",
      "tensor([ 1.,  4.,  7., 10.])\n",
      "tensor([[0.5830, 0.2280, 0.4292],\n",
      "        [0.5609, 0.1548, 0.4976]])\n",
      "tensor([[ 1.2343, -0.5699,  0.9978],\n",
      "        [ 1.1956, -1.2810,  1.4410]])\n",
      "tensor([[0., 0., 0.],\n",
      "        [0., 0., 0.]])\n"
     ]
    }
   ],
   "source": [
    "#生成一个单位矩阵\n",
    "print(torch.eye(2,2))\n",
    "\n",
    "#全0\n",
    "print(torch.zeros(2,3))\n",
    "\n",
    "#根据规则生成数据\n",
    "print(torch.linspace(1,10,4))\n",
    "\n",
    "#满足随机分布的数据\n",
    "print(torch.rand(2,3))\n",
    "\n",
    "#满足标准分布的随机数\n",
    "print(torch.randn(2,3))\n",
    "\n",
    "#返回所给数据形状相同的全0\n",
    "print(torch.zeros_like(torch.rand(2,3)))"
   ]
  },
  {
   "cell_type": "code",
   "execution_count": 13,
   "id": "1b0a56ba",
   "metadata": {},
   "outputs": [
    {
     "name": "stdout",
     "output_type": "stream",
     "text": [
      "tensor([[ 1.9449, -0.6881,  0.7347],\n",
      "        [-0.9897,  1.4494,  1.0834]]) \n",
      "\n",
      "torch.Size([2, 3]) \n",
      "\n",
      "2 \n",
      "\n",
      "tensor([[ 1.9449, -0.6881],\n",
      "        [ 0.7347, -0.9897],\n",
      "        [ 1.4494,  1.0834]]) \n",
      "\n",
      "tensor([ 1.9449, -0.6881,  0.7347, -0.9897,  1.4494,  1.0834]) \n",
      "\n",
      "torch.Size([6]) \n",
      "\n",
      "tensor([[ 1.9449, -0.6881,  0.7347, -0.9897,  1.4494,  1.0834]]) \n",
      "\n",
      "torch.Size([1, 6]) \n",
      "\n",
      "6 \n",
      "\n"
     ]
    }
   ],
   "source": [
    "## 形状操作\n",
    "\n",
    "x=torch.randn(2,3)\n",
    "print(x,\"\\n\")\n",
    "print(x.size(),\"\\n\")\n",
    "#查看x维度\n",
    "print(x.dim(),\"\\n\")\n",
    "\n",
    "#将x变为3x2的矩阵\n",
    "print(x.view(3,2),\"\\n\")\n",
    "\n",
    "#吧x展平为1维向量\n",
    "y=x.view(-1)\n",
    "print(y,\"\\n\")\n",
    "print(y.shape,\"\\n\")\n",
    "\n",
    "#添加一个维度\n",
    "z=torch.unsqueeze(y,0)\n",
    "print(z,\"\\n\")\n",
    "#查看z的形状\n",
    "print(z.size(),\"\\n\")\n",
    "\n",
    "#计算z的元素个数\n",
    "print(z.numel(),\"\\n\")"
   ]
  },
  {
   "cell_type": "code",
   "execution_count": 20,
   "id": "06e101d3",
   "metadata": {},
   "outputs": [
    {
     "name": "stdout",
     "output_type": "stream",
     "text": [
      "第一行的数据: tensor([ 0.3607, -0.2859, -0.3938]) \n",
      "\n",
      "最后一列的数据: tensor([-0.3938, -2.3134]) \n",
      "\n",
      "tensor([[ 0.3607, -0.2859, -0.3938],\n",
      "        [ 0.2429, -1.3833, -2.3134]]) \n",
      "\n",
      "tensor([0.3607, 0.2429]) \n",
      "\n",
      "tensor([[0, 0],\n",
      "        [1, 0]]) \n",
      "\n",
      "tensor([[ 0.3607, -1.3833, -2.3134]]) \n",
      "\n",
      "tensor([[ 0.3607, -0.2859, -0.2859],\n",
      "        [-1.3833, -1.3833, -1.3833]]) \n",
      "\n"
     ]
    },
    {
     "data": {
      "text/plain": [
       "tensor([[ 0.3607, -0.2859,  0.0000],\n",
       "        [ 0.0000, -1.3833,  0.0000]])"
      ]
     },
     "execution_count": 20,
     "metadata": {},
     "output_type": "execute_result"
    }
   ],
   "source": [
    "## 索引操作\n",
    "\n",
    "#设置一个随机种子\n",
    "torch.manual_seed(100)\n",
    "x=torch.randn(2,3)\n",
    "print(\"第一行的数据:\",x[0,:],\"\\n\")\n",
    "print(\"最后一列的数据:\",x[:,-1],\"\\n\")\n",
    "\n",
    "print(x,\"\\n\")\n",
    "#获取大于0的值\n",
    "mask=x>0\n",
    "print(torch.masked_select(x,mask),\"\\n\")\n",
    "\n",
    "#获取非0下标,即行列索引\n",
    "print(torch.nonzero(mask),\"\\n\")\n",
    "\n",
    "index=torch.LongTensor([[0,1,1]])\n",
    "print(torch.gather(x,0,index),\"\\n\")\n",
    "\n",
    "index=torch.LongTensor([[0,1,1],[1,1,1]])\n",
    "a=torch.gather(x,1,index)\n",
    "print(a,\"\\n\")\n",
    "\n",
    "z=torch.zeros(2,3)\n",
    "z.scatter_(1,index,a)\n"
   ]
  },
  {
   "cell_type": "code",
   "execution_count": 22,
   "id": "e77fb242",
   "metadata": {},
   "outputs": [
    {
     "name": "stdout",
     "output_type": "stream",
     "text": [
      "[[ 0]\n",
      " [10]\n",
      " [20]\n",
      " [30]] \n",
      "\n",
      "[0 1 2] \n",
      "\n",
      "tensor([[ 0],\n",
      "        [10],\n",
      "        [20],\n",
      "        [30]]) \n",
      "\n",
      "tensor([0, 1, 2]) \n",
      "\n",
      "tensor([[ 0,  1,  2],\n",
      "        [10, 11, 12],\n",
      "        [20, 21, 22],\n",
      "        [30, 31, 32]]) \n",
      "\n",
      "tensor([[0, 1, 2]]) \n",
      "\n",
      "tensor([[ 0,  0,  0],\n",
      "        [10, 10, 10],\n",
      "        [20, 20, 20],\n",
      "        [30, 30, 30]]) \n",
      "\n",
      "tensor([[0, 1, 2],\n",
      "        [0, 1, 2],\n",
      "        [0, 1, 2],\n",
      "        [0, 1, 2]]) \n",
      "\n",
      "tensor([[ 0,  1,  2],\n",
      "        [10, 11, 12],\n",
      "        [20, 21, 22],\n",
      "        [30, 31, 32]]) \n",
      "\n"
     ]
    }
   ],
   "source": [
    "# 广播机制\n",
    "import numpy as np\n",
    "\n",
    "A=np.arange(0,40,10).reshape(4,1)\n",
    "B=np.arange(0,3)\n",
    "print(A,\"\\n\")\n",
    "print(B,\"\\n\")\n",
    "\n",
    "#将ndarray转换为Tensor\n",
    "A1=torch.from_numpy(A)\n",
    "B1=torch.from_numpy(B)\n",
    "print(A1,\"\\n\")\n",
    "print(B1,\"\\n\")\n",
    "\n",
    "#Tensor自动广播\n",
    "C=A1+B1\n",
    "print(C,\"\\n\")\n",
    "\n",
    "B2=B1.unsqueeze(0)\n",
    "#使用expand函数重复数组,\n",
    "print(B2,\"\\n\")\n",
    "\n",
    "A2=A1.expand(4,3)\n",
    "B3=B2.expand(4,3)\n",
    "print(A2,\"\\n\")\n",
    "print(B3,\"\\n\")\n",
    "\n",
    "C1=A2+B3\n",
    "print(C1,\"\\n\")"
   ]
  },
  {
   "cell_type": "code",
   "execution_count": 27,
   "id": "685380a4",
   "metadata": {},
   "outputs": [
    {
     "name": "stdout",
     "output_type": "stream",
     "text": [
      "t为tensor([[-1.5035, -1.2893,  0.7983]])\n",
      "\n",
      "t1为tensor([[0.8991],\n",
      "        [0.6286],\n",
      "        [0.8412]])\n",
      "\n",
      "t2为tensor([[-1.5565, -0.1410,  0.2437]])\n",
      "\n",
      "tcdiv为tensor([[-1.5613, -1.9269,  1.1673],\n",
      "        [-1.5439, -1.7351,  1.0563],\n",
      "        [-1.5575, -1.8859,  1.1435]])\n",
      "\n",
      "新变化为tensor([[0.1819, 0.2160, 0.6896]])\n",
      "\n",
      "限制在[0,1]之间tensor([[0.0000, 0.0000, 0.7983]])\n",
      "\n",
      "t+2就地运算tensor([[0.4965, 0.7107, 2.7983]])\n",
      "\n"
     ]
    }
   ],
   "source": [
    "#逐元素操作\n",
    "t=torch.randn(1,3)\n",
    "print(\"t为{}\\n\".format(t))\n",
    "t1=torch.randn(3,1)\n",
    "print(\"t1为{}\\n\".format(t1))\n",
    "t2=torch.randn(1,3)\n",
    "print(\"t2为{}\\n\".format(t2))\n",
    "\n",
    "tcdiv=torch.addcdiv(t,0.1,t1,t2)\n",
    "print(\"tcdiv为{}\\n\".format(tcdiv))\n",
    "\n",
    "print(\"新变化为{}\\n\".format(torch.sigmoid(t)))\n",
    "\n",
    "print(\"限制在[0,1]之间{}\\n\".format(torch.clamp(t,0,1)))\n",
    "\n",
    "print(\"t+2就地运算{}\\n\".format(t.add_(2)))"
   ]
  },
  {
   "cell_type": "code",
   "execution_count": 37,
   "id": "d9c7ba41",
   "metadata": {},
   "outputs": [
    {
     "name": "stdout",
     "output_type": "stream",
     "text": [
      "tensor([ 0.,  2.,  4.,  6.,  8., 10.]) \n",
      "\n",
      "tensor([[ 0.,  2.,  4.],\n",
      "        [ 6.,  8., 10.]]) \n",
      "\n",
      "tensor([ 6., 10., 14.]) \n",
      "\n",
      "tensor([[ 6., 10., 14.]]) \n",
      "\n"
     ]
    }
   ],
   "source": [
    "#归并操作\n",
    "#生成一个6个数的向量\n",
    "a=torch.linspace(0,10,6)\n",
    "print(a,'\\n')\n",
    "\n",
    "a=a.view(2,3)\n",
    "print(a,'\\n')\n",
    "\n",
    "#沿着y轴进行叠加\n",
    "b=a.sum(dim=0)\n",
    "print(b,'\\n')\n",
    "\n",
    "#沿着y轴进行叠加,并保留含1的维度\n",
    "b=a.sum(dim=0,keepdim=True)\n",
    "print(b,'\\n')"
   ]
  },
  {
   "cell_type": "code",
   "execution_count": 44,
   "id": "f0eb953d",
   "metadata": {},
   "outputs": [
    {
     "name": "stdout",
     "output_type": "stream",
     "text": [
      "tensor([[ 0.,  2.,  4.],\n",
      "        [ 6.,  8., 10.]])\n",
      "tensor(10.) \n",
      "\n",
      "torch.return_types.max(\n",
      "values=tensor([ 6.,  8., 10.]),\n",
      "indices=tensor([1, 1, 1])) \n",
      "\n",
      "torch.return_types.topk(\n",
      "values=tensor([[ 6.,  8., 10.]]),\n",
      "indices=tensor([[1, 1, 1]]))\n"
     ]
    }
   ],
   "source": [
    "#比较操作\n",
    "x=torch.linspace(0,10,6).view(2,3)\n",
    "print(x)\n",
    "print(torch.max(x),'\\n')\n",
    "print(torch.max(x,dim=0),'\\n')\n",
    "\n",
    "#最大的两个元素\n",
    "print(torch.topk(x,1,dim=0))"
   ]
  },
  {
   "cell_type": "code",
   "execution_count": 50,
   "id": "d26cd15e",
   "metadata": {},
   "outputs": [
    {
     "name": "stdout",
     "output_type": "stream",
     "text": [
      "tensor(18)\n",
      "x: tensor([[1, 4, 2],\n",
      "        [6, 6, 9]])\n",
      "tensor([[ 3, 17, 13, 12],\n",
      "        [15, 45, 36, 45]])\n",
      "x: tensor([[[6, 7, 8],\n",
      "         [9, 0, 3]],\n",
      "\n",
      "        [[3, 4, 8],\n",
      "         [8, 1, 2]]])\n",
      "tensor([[[31, 73, 71,  0],\n",
      "         [36, 48, 51,  0]],\n",
      "\n",
      "        [[32, 65, 12, 40],\n",
      "         [37, 38,  3, 39]]])\n"
     ]
    }
   ],
   "source": [
    "#矩阵操作\n",
    "a=torch.tensor([2,3])\n",
    "b=torch.tensor([3,4])\n",
    "print(torch.dot(a,b))\n",
    "\n",
    "x=torch.randint(10,(2,3))\n",
    "y=torch.randint(6,(3,4))\n",
    "print(\"x:\",x)\n",
    "print(torch.mm(x,y))\n",
    "\n",
    "x=torch.randint(10,(2,2,3))\n",
    "y=torch.randint(6,(2,3,4))\n",
    "print(\"x:\",x)\n",
    "print(torch.bmm(x,y))"
   ]
  },
  {
   "cell_type": "code",
   "execution_count": null,
   "id": "0a77fc6b",
   "metadata": {},
   "outputs": [],
   "source": []
  }
 ],
 "metadata": {
  "kernelspec": {
   "display_name": "Python 3",
   "language": "python",
   "name": "python3"
  },
  "language_info": {
   "codemirror_mode": {
    "name": "ipython",
    "version": 3
   },
   "file_extension": ".py",
   "mimetype": "text/x-python",
   "name": "python",
   "nbconvert_exporter": "python",
   "pygments_lexer": "ipython3",
   "version": "3.8.8"
  }
 },
 "nbformat": 4,
 "nbformat_minor": 5
}
