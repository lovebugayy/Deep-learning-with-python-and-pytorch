{
 "cells": [
  {
   "cell_type": "code",
   "execution_count": 1,
   "id": "f7c66b14",
   "metadata": {},
   "outputs": [],
   "source": [
    "import numpy as np\n"
   ]
  },
  {
   "cell_type": "code",
   "execution_count": 3,
   "id": "b2886393",
   "metadata": {},
   "outputs": [],
   "source": [
    "#np.+Tab 查看可用函數\n",
    "np.abs? #使用信息"
   ]
  },
  {
   "cell_type": "markdown",
   "id": "1cebb757",
   "metadata": {},
   "source": [
    "## 生产Numpy数组"
   ]
  },
  {
   "cell_type": "markdown",
   "id": "e41ec571",
   "metadata": {},
   "source": [
    "### 从已有数据创建列表"
   ]
  },
  {
   "cell_type": "code",
   "execution_count": 13,
   "id": "dc720acd",
   "metadata": {},
   "outputs": [
    {
     "name": "stdout",
     "output_type": "stream",
     "text": [
      "[1 2]\n",
      "<class 'numpy.ndarray'>\n"
     ]
    }
   ],
   "source": [
    "#列表轉換爲ndarray\n",
    "lst1=list()\n",
    "lst1.append(1)\n",
    "lst1.append(2)\n",
    "nd1=np.array(lst1)\n",
    "print(nd1)\n",
    "print(type(nd1))"
   ]
  },
  {
   "cell_type": "code",
   "execution_count": 12,
   "id": "9433d969",
   "metadata": {},
   "outputs": [
    {
     "name": "stdout",
     "output_type": "stream",
     "text": [
      "[[1 2]\n",
      " [3 4]]\n",
      "<class 'numpy.ndarray'>\n"
     ]
    }
   ],
   "source": [
    "#嵌套列表可以转换为多为数组ndarray\n",
    "lst2=[[1,2],[3,4]]\n",
    "nd2=np.array(lst2)\n",
    "print(nd2)\n",
    "print(type(nd2))"
   ]
  },
  {
   "cell_type": "markdown",
   "id": "8dbf4101",
   "metadata": {},
   "source": [
    "### 利用random生成数据\n",
    "#### 深度学习中为了有效提高模型性能,有些初始化需要满足一定的条件,可能需要生成一些满足正态分布或者均匀分布的数据."
   ]
  },
  {
   "cell_type": "code",
   "execution_count": 27,
   "id": "b7e736fd",
   "metadata": {},
   "outputs": [
    {
     "name": "stdout",
     "output_type": "stream",
     "text": [
      "nd3的形状为: (3, 3) \n",
      " [[0.41092437 0.5796943  0.13995076]\n",
      " [0.40101756 0.62731701 0.32415089]\n",
      " [0.24475928 0.69475518 0.5939024 ]]\n"
     ]
    }
   ],
   "source": [
    "nd3=np.random.random([3,3])\n",
    "print(\"nd3的形状为:\",nd3.shape,\"\\n\",nd3)\n"
   ]
  },
  {
   "cell_type": "code",
   "execution_count": null,
   "id": "890c1e0f",
   "metadata": {},
   "outputs": [],
   "source": [
    "# 为了每次都生成同一份数据,可以用seed制定一个随机种子,使用shuffle函数打乱生成的随机数.\n",
    "np.random.seed(123)\n",
    "nd4=np.random.randn(2,3) #randn是生成标准正态的随机数\n",
    "print(nd4)\n",
    "np.random.shuffle(nd4)\n",
    "print(\"随机打乱后的随机数:\\n\",nd4,\"\\n\",type(nd4))"
   ]
  },
  {
   "cell_type": "markdown",
   "id": "dc343a4f",
   "metadata": {},
   "source": [
    "### 创建特定形状的多维数组"
   ]
  },
  {
   "cell_type": "code",
   "execution_count": 29,
   "id": "35f60492",
   "metadata": {},
   "outputs": [
    {
     "name": "stdout",
     "output_type": "stream",
     "text": [
      "[[1. 1. 1.]\n",
      " [1. 1. 1.]\n",
      " [1. 1. 1.]]\n"
     ]
    }
   ],
   "source": [
    "# 可以使用np.zeros,np.ones,np.diag等来实现.也可以使用np.zeros_like,np.ones_like,np.empty_like\n",
    "nd5=np.zeros([3,3])\n",
    "print(np.ones_like(nd5))"
   ]
  },
  {
   "cell_type": "code",
   "execution_count": 31,
   "id": "1c012a3f",
   "metadata": {},
   "outputs": [
    {
     "name": "stdout",
     "output_type": "stream",
     "text": [
      "[[1. 0. 0.]\n",
      " [0. 1. 0.]\n",
      " [0. 0. 1.]]\n"
     ]
    }
   ],
   "source": [
    "nd6=np.eye(3) #单位矩阵\n",
    "print(nd6)"
   ]
  },
  {
   "cell_type": "code",
   "execution_count": 32,
   "id": "952c21e3",
   "metadata": {},
   "outputs": [
    {
     "name": "stdout",
     "output_type": "stream",
     "text": [
      "[[1 0 0]\n",
      " [0 2 0]\n",
      " [0 0 3]]\n"
     ]
    }
   ],
   "source": [
    "nd7=np.diag([1,2,3])\n",
    "print(nd7)"
   ]
  },
  {
   "cell_type": "code",
   "execution_count": 34,
   "id": "0cdde2a2",
   "metadata": {},
   "outputs": [],
   "source": [
    "# 将数据暂存在文本文件中,方便以后使用\n",
    "nd8=np.random.random([5,5])\n",
    "np.savetxt(X=nd8,fname=\"./test1.txt\") #fname,指定file 的名字"
   ]
  },
  {
   "cell_type": "code",
   "execution_count": 35,
   "id": "58317ab3",
   "metadata": {},
   "outputs": [
    {
     "name": "stdout",
     "output_type": "stream",
     "text": [
      "[[0.56843069 0.30254945 0.49730879 0.68326291 0.91669867]\n",
      " [0.10892895 0.49549179 0.23283593 0.43686066 0.75154299]\n",
      " [0.48089213 0.79772841 0.28270293 0.43341824 0.00975735]\n",
      " [0.34079598 0.68927201 0.86936929 0.26780382 0.45674792]\n",
      " [0.26828131 0.8370528  0.27051466 0.53006201 0.17537266]]\n"
     ]
    }
   ],
   "source": [
    "#读取\n",
    "nd9=np.loadtxt('./test1.txt')\n",
    "print(nd9)"
   ]
  },
  {
   "cell_type": "markdown",
   "id": "4a927530",
   "metadata": {},
   "source": [
    "### 利用arange,linspace函数生成数组"
   ]
  },
  {
   "cell_type": "code",
   "execution_count": 37,
   "id": "885ed443",
   "metadata": {},
   "outputs": [
    {
     "name": "stdout",
     "output_type": "stream",
     "text": [
      "[0 1 2 3 4 5 6 7 8 9]\n",
      "[0.  0.5 1.  1.5 2.  2.5 3.  3.5 4.  4.5]\n"
     ]
    }
   ],
   "source": [
    "#arange(start,stop,step,dtype=None) step可以是小数,不输入start和step,则默认为0和1\n",
    "print(np.arange(10))\n",
    "print(np.arange(0,5,0.5))"
   ]
  },
  {
   "cell_type": "code",
   "execution_count": 42,
   "id": "c198d45d",
   "metadata": {},
   "outputs": [
    {
     "name": "stdout",
     "output_type": "stream",
     "text": [
      "[0.         0.11111111 0.22222222 0.33333333 0.44444444 0.55555556\n",
      " 0.66666667 0.77777778 0.88888889 1.        ]\n"
     ]
    }
   ],
   "source": [
    "#linspace是numpy模块中的常用函数,格式为:\n",
    "#np.linspace(start,stop,num=50,endpoint=True,retstep=False,dtype=None)\n",
    "print(np.linspace(0,1,10))#步长为(stop-start)/(num-1)"
   ]
  },
  {
   "cell_type": "code",
   "execution_count": 43,
   "id": "baed2d1b",
   "metadata": {},
   "outputs": [
    {
     "name": "stdout",
     "output_type": "stream",
     "text": [
      "[ 1.          1.29154967  1.66810054  2.15443469  2.7825594   3.59381366\n",
      "  4.64158883  5.9948425   7.74263683 10.        ]\n"
     ]
    }
   ],
   "source": [
    "print(np.logspace(0,1,10))"
   ]
  },
  {
   "cell_type": "markdown",
   "id": "b6c541e1",
   "metadata": {},
   "source": [
    "## 获取元素"
   ]
  },
  {
   "cell_type": "code",
   "execution_count": 47,
   "id": "3878eeda",
   "metadata": {},
   "outputs": [
    {
     "name": "stdout",
     "output_type": "stream",
     "text": [
      "[0.60597828 0.73336936 0.13894716 0.31267308 0.99724328 0.12816238\n",
      " 0.17899311 0.75292543 0.66216051 0.78431013] \n",
      "\n",
      "0.31267308385468695 \n",
      "\n",
      "[0.31267308 0.99724328 0.12816238] \n",
      "\n",
      "[0.73336936 0.13894716 0.31267308 0.99724328 0.12816238] \n",
      "\n",
      "[0.78431013 0.75292543 0.12816238 0.31267308 0.73336936] \n",
      "\n"
     ]
    }
   ],
   "source": [
    "np.random.seed(2021)\n",
    "nd10=np.random.random([10])\n",
    "print(nd10,\"\\n\")\n",
    "#获取指定位置的元素\n",
    "print(nd10[3],\"\\n\")\n",
    "#截取数据\n",
    "print(nd10[3:6],\"\\n\")\n",
    "#截取固定间隔的数据,不包含end对应的数据\n",
    "print(nd10[1:6:2],\"\\n\") \n",
    "#倒序取数\n",
    "print(nd10[::-2],\"\\n\")"
   ]
  },
  {
   "cell_type": "code",
   "execution_count": 58,
   "id": "3bec326e",
   "metadata": {},
   "outputs": [
    {
     "name": "stdout",
     "output_type": "stream",
     "text": [
      "[[ 6  7]\n",
      " [11 12]] \n",
      "\n",
      "[4 5 6 7 8 9] \n",
      "\n",
      "[[ 5  6  7  8  9]\n",
      " [10 11 12 13 14]] \n",
      "\n",
      "[[ 1  2]\n",
      " [ 6  7]\n",
      " [11 12]\n",
      " [16 17]\n",
      " [21 22]] \n",
      "\n",
      "[[10 12 14]\n",
      " [20 22 24]]\n"
     ]
    }
   ],
   "source": [
    "#截取一个多维数组的一个区域内的数据\n",
    "nd11=np.arange(25).reshape([5,5])\n",
    "print(nd11[1:3,1:3],\"\\n\")\n",
    "#截取一个多维数组,其值在某一个范围以内\n",
    "print(nd11[(nd11>3)&(nd11<10)],\"\\n\")\n",
    "#截取多维数组,指定的行,如读取第2,3行\n",
    "print(nd11[[1,2]],\"\\n\")\n",
    "#或者\n",
    "print(nd11[:,1:3],\"\\n\")\n",
    "\n",
    "print(nd11[2::2,::2])"
   ]
  },
  {
   "cell_type": "code",
   "execution_count": 67,
   "id": "1910dfe9",
   "metadata": {},
   "outputs": [
    {
     "name": "stdout",
     "output_type": "stream",
     "text": [
      "[ 1.  2.  3.  4.  5.  6.  7.  8.  9. 10. 11. 12. 13. 14. 15. 16. 17. 18.\n",
      " 19. 20. 21. 22. 23. 24.] \n",
      "\n",
      "[[23. 18. 15. 12.]\n",
      " [24. 21. 21.  8.]\n",
      " [ 5.  4. 24. 13.]] \n",
      "\n",
      "[[13. 23.  1. 22.]\n",
      " [ 9. 20.  4. 18.]\n",
      " [17. 24.  7. 11.]] \n",
      "\n",
      "[[13. 11. 21.  9.]\n",
      " [20.  9.  9. 11.]\n",
      " [17. 21. 17. 13.]]\n"
     ]
    }
   ],
   "source": [
    "#除了以指定的索引来实现,还可以使用一些函数来实现\n",
    "#random.choice从指定数据中随机抽取数据\n",
    "from numpy import random as nr\n",
    "a=np.arange(1,25,dtype=float) #查看类型用type,指定用dtype\n",
    "print(a,\"\\n\")\n",
    "\n",
    "c1=nr.choice(a,size=(3,4)) #可以重复抽取\n",
    "print(c1,\"\\n\")\n",
    "\n",
    "c2=nr.choice(a,size=(3,4),replace=False) #不可以重复抽取\n",
    "print(c2,\"\\n\")\n",
    "\n",
    "c3=nr.choice(a,size=(3,4),p=a/np.sum(a)) #p为元素被抽取到的概率\n",
    "print(c3)"
   ]
  },
  {
   "cell_type": "markdown",
   "id": "d41cf2b4",
   "metadata": {},
   "source": [
    "## Numpy的算数运算"
   ]
  },
  {
   "cell_type": "code",
   "execution_count": 69,
   "id": "e05de4a7",
   "metadata": {},
   "outputs": [
    {
     "name": "stdout",
     "output_type": "stream",
     "text": [
      "[[ 2  0]\n",
      " [ 9 16]] \n",
      "\n"
     ]
    }
   ],
   "source": [
    "### 对应元素相乘\n",
    "A=np.array([[1,2],[3,4]])\n",
    "B=np.array([[2,0],[3,4]])\n",
    "print(A*B,\"\\n\")"
   ]
  },
  {
   "cell_type": "code",
   "execution_count": 70,
   "id": "0f24ddb6",
   "metadata": {},
   "outputs": [
    {
     "name": "stdout",
     "output_type": "stream",
     "text": [
      "[[ 2  0]\n",
      " [ 9 16]]\n"
     ]
    }
   ],
   "source": [
    "C=np.multiply(A,B)\n",
    "print(C)"
   ]
  },
  {
   "cell_type": "code",
   "execution_count": 72,
   "id": "92316c07",
   "metadata": {},
   "outputs": [
    {
     "name": "stdout",
     "output_type": "stream",
     "text": [
      "[[2. 4.]\n",
      " [6. 8.]]\n"
     ]
    }
   ],
   "source": [
    "#标量和数组相乘\n",
    "print(A*2.0)"
   ]
  },
  {
   "cell_type": "code",
   "execution_count": 73,
   "id": "a6567083",
   "metadata": {},
   "outputs": [
    {
     "name": "stdout",
     "output_type": "stream",
     "text": [
      "[[0.5 1. ]\n",
      " [1.5 2. ]]\n"
     ]
    }
   ],
   "source": [
    "print(A/2.0)"
   ]
  },
  {
   "cell_type": "code",
   "execution_count": 74,
   "id": "adbfa0cb",
   "metadata": {},
   "outputs": [],
   "source": [
    "#这样,就可以定义深度学习中的一些激活函数\n",
    "X=np.random.rand(2,3)\n",
    "def softmoid(x):\n",
    "    return 1/(1+np.exp(-x))\n",
    "\n",
    "def relu(x):\n",
    "    return np.maximum(0,x)\n",
    "\n",
    "def softmax(x):\n",
    "    return np.exp(x)/np.sum(np.exp(x))"
   ]
  },
  {
   "cell_type": "code",
   "execution_count": 75,
   "id": "ea41bb2f",
   "metadata": {},
   "outputs": [
    {
     "name": "stdout",
     "output_type": "stream",
     "text": [
      "输入参数X的形状:\n",
      " (2, 3)\n",
      "激活函数softmoid输出形状:\n",
      " (2, 3)\n",
      "激活函数relu输出形状:\n",
      " (2, 3)\n",
      "激活函数softmax输出形状:\n",
      " (2, 3)\n"
     ]
    }
   ],
   "source": [
    "print(\"输入参数X的形状:\\n\",X.shape)\n",
    "print(\"激活函数softmoid输出形状:\\n\",softmoid(X).shape)\n",
    "print(\"激活函数relu输出形状:\\n\",relu(X).shape)\n",
    "print(\"激活函数softmax输出形状:\\n\",softmax(X).shape)"
   ]
  },
  {
   "cell_type": "code",
   "execution_count": 76,
   "id": "6da5c2ec",
   "metadata": {},
   "outputs": [
    {
     "name": "stdout",
     "output_type": "stream",
     "text": [
      "[[21 24 27]\n",
      " [47 54 61]]\n"
     ]
    }
   ],
   "source": [
    "X1=np.array([[1,2],[3,4]])\n",
    "X2=np.array([[5,6,7],[8,9,10]])\n",
    "X3=np.dot(X1,X2)\n",
    "print(X3)"
   ]
  },
  {
   "cell_type": "markdown",
   "id": "5991a2b0",
   "metadata": {},
   "source": [
    "## 数组变形"
   ]
  },
  {
   "cell_type": "code",
   "execution_count": 82,
   "id": "99322fe5",
   "metadata": {},
   "outputs": [
    {
     "name": "stdout",
     "output_type": "stream",
     "text": [
      "[0 1 2 3 4 5 6 7 8 9] \n",
      "\n",
      "[[0 1 2 3 4]\n",
      " [5 6 7 8 9]] \n",
      "\n",
      "[[0 1]\n",
      " [2 3]\n",
      " [4 5]\n",
      " [6 7]\n",
      " [8 9]] \n",
      "\n",
      "[[0 1 2 3 4]\n",
      " [5 6 7 8 9]] \n",
      "\n",
      "[0 1 2 3 4 5 6 7 8 9] \n",
      "\n"
     ]
    }
   ],
   "source": [
    "#reshape改变向量的维度,但是不改变向量本身\n",
    "arr1=np.arange(10)\n",
    "print(arr1,\"\\n\")\n",
    "print(arr1.reshape(2,5),\"\\n\")\n",
    "print(arr1.reshape(5,-1),\"\\n\")\n",
    "print(arr1.reshape(-1,5),\"\\n\")\n",
    "print(arr1,\"\\n\")"
   ]
  },
  {
   "cell_type": "code",
   "execution_count": 86,
   "id": "38bd19a1",
   "metadata": {},
   "outputs": [
    {
     "name": "stdout",
     "output_type": "stream",
     "text": [
      "[0 1 2 3 4 5 6 7 8 9] \n",
      "\n",
      "[[0 1 2 3 4]\n",
      " [5 6 7 8 9]] \n",
      "\n"
     ]
    }
   ],
   "source": [
    "#resize改变向量维度,也修改向量本身\n",
    "arr2=np.arange(10)\n",
    "print(arr2,\"\\n\")\n",
    "arr2.resize(2,5) #直接print这句话,会返回None\n",
    "print(arr2,\"\\n\")"
   ]
  },
  {
   "cell_type": "code",
   "execution_count": 88,
   "id": "2e702efa",
   "metadata": {},
   "outputs": [
    {
     "name": "stdout",
     "output_type": "stream",
     "text": [
      "[[ 0  1  2  3]\n",
      " [ 4  5  6  7]\n",
      " [ 8  9 10 11]] \n",
      "\n",
      "[[ 0  4  8]\n",
      " [ 1  5  9]\n",
      " [ 2  6 10]\n",
      " [ 3  7 11]] \n",
      "\n"
     ]
    }
   ],
   "source": [
    "#转置\n",
    "arr3=np.arange(12).reshape(3,4) #同样,此处用resize会报错#\n",
    "print(arr3,\"\\n\")\n",
    "print(arr3.T,\"\\n\")"
   ]
  },
  {
   "cell_type": "code",
   "execution_count": 93,
   "id": "3dfdaf0b",
   "metadata": {},
   "outputs": [
    {
     "name": "stdout",
     "output_type": "stream",
     "text": [
      "[[0 1 2]\n",
      " [3 4 5]] \n",
      "\n",
      "优先按照列展平\n",
      " [0 3 1 4 2 5]\n",
      "\n",
      "优先按照行展平\n",
      " [0 1 2 3 4 5]\n"
     ]
    }
   ],
   "source": [
    "#ravel向量展平,不会产生原数组的副本\n",
    "arr4=np.arange(6).reshape(2,-1)\n",
    "print(arr4,\"\\n\")\n",
    "print(\"优先按照列展平\\n\",arr4.ravel('F'))\n",
    "print(\"\\n优先按照行展平\\n\",arr4.ravel())"
   ]
  },
  {
   "cell_type": "code",
   "execution_count": 101,
   "id": "ac9f05f7",
   "metadata": {},
   "outputs": [
    {
     "name": "stdout",
     "output_type": "stream",
     "text": [
      "[[0. 0. 4. 4.]\n",
      " [6. 9. 5. 9.]\n",
      " [9. 4. 6. 8.]] \n",
      "\n",
      "[0. 0. 4. 4. 6. 9. 5. 9. 9. 4. 6. 8.]\n"
     ]
    }
   ],
   "source": [
    "#flatten 把矩阵转换为向量,这种需求通常出现在卷积网络和全链接层之间,返回元数组的副本\n",
    "arr5=np.floor(10*np.random.random((3,4)))\n",
    "print(arr5,'\\n')\n",
    "print(arr5.flatten())"
   ]
  },
  {
   "cell_type": "code",
   "execution_count": 109,
   "id": "7095b223",
   "metadata": {},
   "outputs": [
    {
     "name": "stdout",
     "output_type": "stream",
     "text": [
      "(3, 1) \n",
      "\n",
      "(3,) \n",
      "\n",
      "(3, 1, 2, 1) \n",
      "\n",
      "(3, 2) \n",
      "\n"
     ]
    }
   ],
   "source": [
    "#squeeze用来降维的函数,把矩阵中的1去掉\n",
    "arr6=np.arange(3).reshape(3,1)\n",
    "print(arr6.shape,'\\n')\n",
    "print(arr6.squeeze().shape,'\\n')\n",
    "arr7=np.arange(6).reshape(3,1,2,1)\n",
    "print(arr7.shape,'\\n')\n",
    "print(arr7.squeeze().shape,'\\n')"
   ]
  },
  {
   "cell_type": "code",
   "execution_count": 115,
   "id": "577113dd",
   "metadata": {},
   "outputs": [
    {
     "name": "stdout",
     "output_type": "stream",
     "text": [
      "(2, 3, 4)\n",
      "(2, 4, 3)\n"
     ]
    }
   ],
   "source": [
    "#transpose对高维矩阵进行轴变换.\n",
    "arr8=np.arange(24).reshape(2,3,4)\n",
    "print(arr8.shape)\n",
    "print(arr8.transpose(0,2,1).shape)"
   ]
  },
  {
   "cell_type": "markdown",
   "id": "d6de1185",
   "metadata": {},
   "source": [
    "## 合并数组"
   ]
  },
  {
   "cell_type": "code",
   "execution_count": 119,
   "id": "a4700f92",
   "metadata": {},
   "outputs": [
    {
     "name": "stdout",
     "output_type": "stream",
     "text": [
      "[1 2 3 4 5 6]\n"
     ]
    }
   ],
   "source": [
    "#append,concatenate,stack都有一个axis参数,用于确定按什么方式合并\n",
    "a=np.array([1,2,3])\n",
    "b=np.array([4,5,6])\n",
    "c=np.append(a,b)\n",
    "print(c)"
   ]
  },
  {
   "cell_type": "code",
   "execution_count": 120,
   "id": "039ecefb",
   "metadata": {},
   "outputs": [
    {
     "name": "stdout",
     "output_type": "stream",
     "text": [
      "[[0 1]\n",
      " [2 3]\n",
      " [0 1]\n",
      " [2 3]] \n",
      "\n",
      "[[0 1 0 1]\n",
      " [2 3 2 3]] \n",
      "\n"
     ]
    }
   ],
   "source": [
    "a=np.arange(4).reshape(2,2)\n",
    "b=np.arange(4).reshape(2,2)\n",
    "#按照行合并,行数增加\n",
    "c=np.append(a,b,axis=0)\n",
    "#按照列合并,列数增加\n",
    "d=np.append(a,b,axis=1)\n",
    "print(c,\"\\n\")\n",
    "print(d,\"\\n\")"
   ]
  },
  {
   "cell_type": "code",
   "execution_count": 128,
   "id": "bccad21c",
   "metadata": {},
   "outputs": [
    {
     "name": "stdout",
     "output_type": "stream",
     "text": [
      "[[1 2]\n",
      " [3 4]\n",
      " [5 6]] \n",
      "\n",
      "[[1 2 5]\n",
      " [3 4 6]] \n",
      "\n"
     ]
    }
   ],
   "source": [
    "#concatenate,沿着指定轴进行链接数据或者矩阵.默认按照行合并\n",
    "a=np.array([[1,2],[3,4]])\n",
    "b=np.array([[5,6]])\n",
    "c=np.concatenate((a,b),axis=0)\n",
    "print(c,\"\\n\")\n",
    "d=np.concatenate((a,b.T),axis=1)\n",
    "print(d,'\\n')"
   ]
  },
  {
   "cell_type": "code",
   "execution_count": 136,
   "id": "a00c8b5f",
   "metadata": {},
   "outputs": [
    {
     "name": "stdout",
     "output_type": "stream",
     "text": [
      "[[[1 5]\n",
      "  [2 6]]\n",
      "\n",
      " [[3 7]\n",
      "  [4 8]]]\n"
     ]
    }
   ],
   "source": [
    "#沿着轴堆叠数组或者矩阵\n",
    "a=np.array([[1,2],[3,4]])\n",
    "b=np.array([[5,6],[7,8]])\n",
    "print(np.stack((a,b),axis=2))"
   ]
  },
  {
   "cell_type": "markdown",
   "id": "1e939890",
   "metadata": {},
   "source": [
    "## 批量处理"
   ]
  },
  {
   "cell_type": "code",
   "execution_count": 139,
   "id": "da98b03e",
   "metadata": {},
   "outputs": [
    {
     "name": "stdout",
     "output_type": "stream",
     "text": [
      "(10000, 2, 3) \n",
      "\n",
      "第0批次,该批次的数据之和为:21.11134570109606\n",
      "第100批次,该批次的数据之和为:34.14758322719199\n",
      "第200批次,该批次的数据之和为:17.799166736439886\n",
      "第300批次,该批次的数据之和为:23.11671282422046\n",
      "第400批次,该批次的数据之和为:-23.242215724403806\n",
      "第500批次,该批次的数据之和为:8.788810231917186\n",
      "第600批次,该批次的数据之和为:-32.05085352900657\n",
      "第700批次,该批次的数据之和为:-37.587594623300944\n",
      "第800批次,该批次的数据之和为:3.9343178026236476\n",
      "第900批次,该批次的数据之和为:-0.821688934029833\n",
      "第1000批次,该批次的数据之和为:14.868065097000148\n",
      "第1100批次,该批次的数据之和为:13.28797311668437\n",
      "第1200批次,该批次的数据之和为:-0.03446779142348788\n",
      "第1300批次,该批次的数据之和为:-49.98350841525306\n",
      "第1400批次,该批次的数据之和为:-0.041261675489973726\n",
      "第1500批次,该批次的数据之和为:-6.572969763395881\n",
      "第1600批次,该批次的数据之和为:-4.5167555845611655\n",
      "第1700批次,该批次的数据之和为:-59.78406815484988\n",
      "第1800批次,该批次的数据之和为:5.9284493786307575\n",
      "第1900批次,该批次的数据之和为:43.93031099836854\n",
      "第2000批次,该批次的数据之和为:-13.301149103775717\n",
      "第2100批次,该批次的数据之和为:-12.655169085484488\n",
      "第2200批次,该批次的数据之和为:4.509171123834525\n",
      "第2300批次,该批次的数据之和为:-18.85416917755785\n",
      "第2400批次,该批次的数据之和为:9.99581314151058\n",
      "第2500批次,该批次的数据之和为:-39.41462472876423\n",
      "第2600批次,该批次的数据之和为:-14.133780946400911\n",
      "第2700批次,该批次的数据之和为:-44.184136174991835\n",
      "第2800批次,该批次的数据之和为:-3.2442916894024236\n",
      "第2900批次,该批次的数据之和为:6.275868738779016\n",
      "第3000批次,该批次的数据之和为:67.33599401136436\n",
      "第3100批次,该批次的数据之和为:67.94909999218585\n",
      "第3200批次,该批次的数据之和为:3.3125001056960297\n",
      "第3300批次,该批次的数据之和为:-28.22279759906794\n",
      "第3400批次,该批次的数据之和为:-1.1790697292405667\n",
      "第3500批次,该批次的数据之和为:4.816435937383082\n",
      "第3600批次,该批次的数据之和为:-10.265283678319523\n",
      "第3700批次,该批次的数据之和为:-32.43973029475691\n",
      "第3800批次,该批次的数据之和为:20.482798483828674\n",
      "第3900批次,该批次的数据之和为:-1.5702269285531134\n",
      "第4000批次,该批次的数据之和为:-26.024854958270012\n",
      "第4100批次,该批次的数据之和为:-50.924764679362596\n",
      "第4200批次,该批次的数据之和为:-12.226165981651654\n",
      "第4300批次,该批次的数据之和为:21.761835364860296\n",
      "第4400批次,该批次的数据之和为:-33.81940125681528\n",
      "第4500批次,该批次的数据之和为:3.8404296172972243\n",
      "第4600批次,该批次的数据之和为:-12.724819215220128\n",
      "第4700批次,该批次的数据之和为:20.974092094680408\n",
      "第4800批次,该批次的数据之和为:22.80790884608754\n",
      "第4900批次,该批次的数据之和为:-26.32199825308942\n",
      "第5000批次,该批次的数据之和为:30.842261123254378\n",
      "第5100批次,该批次的数据之和为:26.553689274270006\n",
      "第5200批次,该批次的数据之和为:15.737705444888103\n",
      "第5300批次,该批次的数据之和为:28.0873306474839\n",
      "第5400批次,该批次的数据之和为:-19.71933228992334\n",
      "第5500批次,该批次的数据之和为:19.104511178941987\n",
      "第5600批次,该批次的数据之和为:-29.827945388644046\n",
      "第5700批次,该批次的数据之和为:5.130850099326434\n",
      "第5800批次,该批次的数据之和为:10.160247088914902\n",
      "第5900批次,该批次的数据之和为:-7.024270403296073\n",
      "第6000批次,该批次的数据之和为:19.620672261400188\n",
      "第6100批次,该批次的数据之和为:-7.23480451936412\n",
      "第6200批次,该批次的数据之和为:12.85383171082102\n",
      "第6300批次,该批次的数据之和为:-1.9372948685378564\n",
      "第6400批次,该批次的数据之和为:6.186241773329874\n",
      "第6500批次,该批次的数据之和为:18.5343453427024\n",
      "第6600批次,该批次的数据之和为:-10.528363274353758\n",
      "第6700批次,该批次的数据之和为:-9.252053759696564\n",
      "第6800批次,该批次的数据之和为:-10.500939575550229\n",
      "第6900批次,该批次的数据之和为:-7.882952108872011\n",
      "第7000批次,该批次的数据之和为:-0.7988711772230239\n",
      "第7100批次,该批次的数据之和为:18.158358225001713\n",
      "第7200批次,该批次的数据之和为:5.451358553747307\n",
      "第7300批次,该批次的数据之和为:6.578300315694712\n",
      "第7400批次,该批次的数据之和为:14.376933975590049\n",
      "第7500批次,该批次的数据之和为:20.603962646399502\n",
      "第7600批次,该批次的数据之和为:14.223865947371287\n",
      "第7700批次,该批次的数据之和为:20.937799518483\n",
      "第7800批次,该批次的数据之和为:12.925758198938192\n",
      "第7900批次,该批次的数据之和为:-26.203544754255354\n",
      "第8000批次,该批次的数据之和为:-23.42945799795206\n",
      "第8100批次,该批次的数据之和为:-15.52946118952834\n",
      "第8200批次,该批次的数据之和为:13.081814203861764\n",
      "第8300批次,该批次的数据之和为:-14.776536957331347\n",
      "第8400批次,该批次的数据之和为:-12.799243487782029\n",
      "第8500批次,该批次的数据之和为:1.901711326428451\n",
      "第8600批次,该批次的数据之和为:5.1287370624148565\n",
      "第8700批次,该批次的数据之和为:-8.034441112560852\n",
      "第8800批次,该批次的数据之和为:15.903899385818209\n",
      "第8900批次,该批次的数据之和为:34.53960252872249\n",
      "第9000批次,该批次的数据之和为:-22.840137794696673\n",
      "第9100批次,该批次的数据之和为:-0.7035043220509944\n",
      "第9200批次,该批次的数据之和为:22.664457675470587\n",
      "第9300批次,该批次的数据之和为:27.69174850368222\n",
      "第9400批次,该批次的数据之和为:-31.62723025510398\n",
      "第9500批次,该批次的数据之和为:14.112619041718588\n",
      "第9600批次,该批次的数据之和为:-11.813974370304773\n",
      "第9700批次,该批次的数据之和为:-44.107400594221595\n",
      "第9800批次,该批次的数据之和为:5.837316079128624\n",
      "第9900批次,该批次的数据之和为:-21.96581579066892\n"
     ]
    }
   ],
   "source": [
    "#mini_batch\n",
    "data_train=np.random.randn(10000,2,3)\n",
    "print(data_train.shape,\"\\n\")\n",
    "\n",
    "np.random.shuffle(data_train)\n",
    "\n",
    "#定义批量大小\n",
    "batch_size=100\n",
    "\n",
    "#进行批处理\n",
    "for i in range(0,len(data_train),batch_size):\n",
    "    x_batch_sum=np.sum(data_train[i:i+batch_size])\n",
    "    print(\"第{}批次,该批次的数据之和为:{}\".format(i,x_batch_sum))\n"
   ]
  },
  {
   "cell_type": "markdown",
   "id": "aef08699",
   "metadata": {},
   "source": [
    "## 通用函数ufunc"
   ]
  },
  {
   "cell_type": "code",
   "execution_count": 140,
   "id": "33c7ea69",
   "metadata": {},
   "outputs": [],
   "source": [
    "#ufunc 支持ndarry相关计算,实现速度较快\n",
    "#可以通过一下代码来比较\n",
    "import time \n",
    "import math \n",
    "import numpy as np"
   ]
  },
  {
   "cell_type": "code",
   "execution_count": 142,
   "id": "23f07c37",
   "metadata": {},
   "outputs": [
    {
     "name": "stdout",
     "output_type": "stream",
     "text": [
      "math.sin:  0.15694367700000011\n"
     ]
    }
   ],
   "source": [
    "x=[i*0.001 for i in range(1000000)]\n",
    "# start=time.clock() Python 3.8 已移除 clock() 方法 \n",
    "#可以使用 time.perf_counter() 或 time.process_time() 方法替代。\n",
    "start=time.process_time()\n",
    "for i,t in enumerate(x):\n",
    "    x[i]=math.sin(t)\n",
    "print(\"math.sin: \",time.process_time()-start)"
   ]
  },
  {
   "cell_type": "code",
   "execution_count": 144,
   "id": "c33116ec",
   "metadata": {},
   "outputs": [
    {
     "name": "stdout",
     "output_type": "stream",
     "text": [
      "numpy.sin:  0.010448773000000244\n"
     ]
    }
   ],
   "source": [
    "x=[i*0.001 for i in range(1000000)]\n",
    "# start=time.clock() Python 3.8 已移除 clock() 方法 \n",
    "#可以使用 time.perf_counter() 或 time.process_time() 方法替代。\n",
    "x=np.array(x)\n",
    "start=time.process_time()\n",
    "np.sin(x)\n",
    "print(\"numpy.sin: \",time.process_time()-start)"
   ]
  },
  {
   "cell_type": "code",
   "execution_count": 147,
   "id": "1478762d",
   "metadata": {},
   "outputs": [
    {
     "name": "stdout",
     "output_type": "stream",
     "text": [
      "dot= 250161.6666350324\n",
      " for loop----- Computation time =290.5144220000011ms\n",
      "dot= 250161.66663503615\n",
      " vector version----- Computation time =3.1715410000003885ms\n"
     ]
    }
   ],
   "source": [
    "x1=np.random.rand(1000000)\n",
    "x2=np.random.rand(1000000)\n",
    "\n",
    "#使用循环计算向量点积\n",
    "tic=time.process_time()\n",
    "dot=0\n",
    "for i in range(len(x1)):\n",
    "    dot+=x1[i]*x2[i]\n",
    "toc=time.process_time()\n",
    "print(\"dot= \"+str(dot)+\"\\n for loop----- Computation time =\" +str(1000*(toc-tic))+\"ms\")\n",
    "\n",
    "#使用numpy函数求点积\n",
    "tic=time.process_time()\n",
    "dot=0\n",
    "dot=np.dot(x1,x2)\n",
    "toc=time.process_time()\n",
    "print(\"dot= \"+str(dot)+\"\\n vector version----- Computation time =\" +str(1000*(toc-tic))+\"ms\")\n"
   ]
  },
  {
   "cell_type": "markdown",
   "id": "9bf1d55b",
   "metadata": {},
   "source": [
    "## 广播机制"
   ]
  },
  {
   "cell_type": "code",
   "execution_count": 148,
   "id": "565db104",
   "metadata": {},
   "outputs": [
    {
     "name": "stdout",
     "output_type": "stream",
     "text": [
      "A矩阵的形状:(4, 1),B矩阵的形状:(3,)\n",
      "C矩阵的形状:(4, 3)\n",
      "[[ 0  1  2]\n",
      " [10 11 12]\n",
      " [20 21 22]\n",
      " [30 31 32]]\n"
     ]
    }
   ],
   "source": [
    "A=np.arange(0,40,10).reshape(4,1)\n",
    "B=np.arange(0,3)\n",
    "\n",
    "print(\"A矩阵的形状:{},B矩阵的形状:{}\".format(A.shape,B.shape))\n",
    "C=A+B\n",
    "print(\"C矩阵的形状:{}\".format(C.shape))\n",
    "print(C)"
   ]
  },
  {
   "cell_type": "code",
   "execution_count": null,
   "id": "77f867c2",
   "metadata": {},
   "outputs": [],
   "source": []
  }
 ],
 "metadata": {
  "kernelspec": {
   "display_name": "Python 3",
   "language": "python",
   "name": "python3"
  },
  "language_info": {
   "codemirror_mode": {
    "name": "ipython",
    "version": 3
   },
   "file_extension": ".py",
   "mimetype": "text/x-python",
   "name": "python",
   "nbconvert_exporter": "python",
   "pygments_lexer": "ipython3",
   "version": "3.8.8"
  }
 },
 "nbformat": 4,
 "nbformat_minor": 5
}
